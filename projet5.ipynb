{
 "cells": [
  {
   "cell_type": "markdown",
   "metadata": {},
   "source": [
    "# Projet 5 - Layerwise Relevance Propagation pour l'analyse d'image\n",
    "\n",
    "Elyes KHALFALLAH & Edouard CHAPPON\n",
    "\n",
    "MALIA\n",
    "\n",
    "---\n",
    "\n",
    "---\n"
   ]
  },
  {
   "cell_type": "code",
   "execution_count": 11,
   "metadata": {},
   "outputs": [
    {
     "data": {
      "image/png": "[encoded data removed]",
      "text/plain": [
       "<Figure size 640x480 with 1 Axes>"
      ]
     },
     "metadata": {},
     "output_type": "display_data"
    }
   ],
   "source": [
    "import numpy as np\n",
    "import matplotlib.pyplot as plt\n",
    "\n",
    "################################################################################\n",
    "# [1.] Define input, weights ===================================================\n",
    "#      and see their distribution with a histogram =============================\n",
    "################################################################################\n",
    "\n",
    "# i: input layer, j: hidden layer, k: output layer\n",
    "\n",
    "# 1.1. Values selected by user -------------------------------------------------\n",
    "x_i_dict = {\"x_1\": 3, \"x_2\": 4, \"x_3\": -10}\n",
    "\n",
    "w_j_1_dict = {\"w_i1_j1\": -0.2, \"w_i2_j1\": 0.5, \"w_i3_j1\": -0.1}\n",
    "w_j_2_dict = {\"w_i1_j2\": -0.25, \"w_i2_j2\": 0.1, \"w_i3_j2\": 0.4}\n",
    "w_j_3_dict = {\"w_i1_j3\": 0.2, \"w_i2_j3\": -0.3, \"w_i3_j3\": -0.2}\n",
    "w_j_4_dict = {\"w_i1_j4\": 0.5, \"w_i2_j4\": -0.8, \"w_i3_j4\": 0.6}\n",
    "w_j_5_dict = {\"w_i1_j5\": 0.1, \"w_i2_j5\": 0.4, \"w_i3_j5\": 0.7}\n",
    "\n",
    "w_k_dict = {\n",
    "    \"w_j1_k1\": 0.8,\n",
    "    \"w_j2_k1\": 0.1,\n",
    "    \"w_j3_k1\": -0.2,\n",
    "    \"w_j4_k1\": -0.4,\n",
    "    \"w_j5_k1\": 0.6,\n",
    "}\n",
    "\n",
    "\n",
    "# 1.2. Randomly (Normally distributed) values ----------------------------------\n",
    "mu, sigma = 0, 0.05\n",
    "x_i_normal = np.random.normal(mu, sigma, 3)\n",
    "\n",
    "x_j_1_normal = np.random.normal(mu, sigma, 3)\n",
    "x_j_2_normal = np.random.normal(mu, sigma, 3)\n",
    "x_j_3_normal = np.random.normal(mu, sigma, 3)\n",
    "x_j_4_normal = np.random.normal(mu, sigma, 3)\n",
    "x_j_5_normal = np.random.normal(mu, sigma, 3)\n",
    "\n",
    "x_k_normal = np.random.normal(mu, sigma, 5)\n",
    "\n",
    "\n",
    "# Histogram of weights ---------------------------------------------------------\n",
    "n, bins, patches = plt.hist(\n",
    "    w_k_dict.values(), 50, density=True, facecolor=\"g\", alpha=0.75\n",
    ")\n",
    "\n",
    "\n",
    "plt.xlabel(\"Weight values\")\n",
    "plt.title(\"Histogram of weight values\")\n",
    "plt.grid(True)\n",
    "plt.show()\n"
   ]
  },
  {
   "cell_type": "code",
   "execution_count": 12,
   "metadata": {},
   "outputs": [
    {
     "name": "stdout",
     "output_type": "stream",
     "text": [
      "Output value of the network: 3.8\n"
     ]
    }
   ],
   "source": [
    "################################################################################\n",
    "# [2.] Compute equations of feedforward pass ===================================\n",
    "# Apply those equations to compute the output of the network ===================\n",
    "################################################################################\n",
    "sum_j1 = (\n",
    "    x_i_dict[\"x_1\"] * w_j_1_dict[\"w_i1_j1\"]\n",
    "    + x_i_dict[\"x_2\"] * w_j_1_dict[\"w_i2_j1\"]\n",
    "    + x_i_dict[\"x_3\"] * w_j_1_dict[\"w_i3_j1\"]\n",
    ")\n",
    "\n",
    "sum_j2 = (\n",
    "    x_i_dict[\"x_1\"] * w_j_2_dict[\"w_i1_j2\"]\n",
    "    + x_i_dict[\"x_2\"] * w_j_2_dict[\"w_i2_j2\"]\n",
    "    + x_i_dict[\"x_3\"] * w_j_2_dict[\"w_i3_j2\"]\n",
    ")\n",
    "\n",
    "sum_j3 = (\n",
    "    x_i_dict[\"x_1\"] * w_j_3_dict[\"w_i1_j3\"]\n",
    "    + x_i_dict[\"x_2\"] * w_j_3_dict[\"w_i2_j3\"]\n",
    "    + x_i_dict[\"x_3\"] * w_j_3_dict[\"w_i3_j3\"]\n",
    ")\n",
    "\n",
    "sum_j4 = (\n",
    "    x_i_dict[\"x_1\"] * w_j_4_dict[\"w_i1_j4\"]\n",
    "    + x_i_dict[\"x_2\"] * w_j_4_dict[\"w_i2_j4\"]\n",
    "    + x_i_dict[\"x_3\"] * w_j_4_dict[\"w_i3_j4\"]\n",
    ")\n",
    "\n",
    "sum_j5 = (\n",
    "    x_i_dict[\"x_1\"] * w_j_5_dict[\"w_i1_j5\"]\n",
    "    + x_i_dict[\"x_2\"] * w_j_5_dict[\"w_i2_j5\"]\n",
    "    + x_i_dict[\"x_3\"] * w_j_5_dict[\"w_i3_j5\"]\n",
    ")\n",
    "\n",
    "# Apply ReLU -------------------------------------------------------------------\n",
    "val_j1 = max(0, sum_j1)\n",
    "val_j2 = max(0, sum_j2)\n",
    "val_j3 = max(0, sum_j3)\n",
    "val_j4 = max(0, sum_j4)\n",
    "val_j5 = max(0, sum_j5)\n",
    "\n",
    "# Compute the output of the NN -------------------------------------------------\n",
    "val_k1 = val_j1 + val_j2 + val_j3 + val_j4 + val_j5\n",
    "print(f\"Output value of the network: {val_k1}\")\n"
   ]
  },
  {
   "cell_type": "code",
   "execution_count": 13,
   "metadata": {},
   "outputs": [
    {
     "name": "stdout",
     "output_type": "stream",
     "text": [
      "Relevances of neurons of k layer: 3.8\n",
      "Relevances of neurons of j layer: 2.4, 0, 1.4000000000000001, 0, 0\n",
      "Relevances of neurons of i layer: 0.6494117647058824, 2.741176470588235, 0.4094117647058824\n"
     ]
    }
   ],
   "source": [
    "################################################################################\n",
    "################################################################################\n",
    "################################################################################\n",
    "# [3.] Compute the relevances of each neuron in all layers =====================\n",
    "# The relevances computations follow the mathematical formulas defined above. ==\n",
    "################################################################################\n",
    "################################################################################\n",
    "################################################################################\n",
    "\n",
    "################################################################################\n",
    "# [3.1] Compute relevance of output layer (k) ==================================\n",
    "################################################################################\n",
    "R_k = val_k1\n",
    "\n",
    "print(f\"Relevances of neurons of k layer: {R_k}\")\n",
    "\n",
    "################################################################################\n",
    "# [3.2] Compute relevance of every one of the 5 neurons of the layer (j) =======\n",
    "################################################################################\n",
    "R_j1 = val_j1\n",
    "R_j2 = val_j2\n",
    "R_j3 = val_j3\n",
    "R_j4 = val_j4\n",
    "R_j5 = val_j5\n",
    "\n",
    "print(f\"Relevances of neurons of j layer: {R_j1}, {R_j2}, {R_j3}, {R_j4}, {R_j5}\")\n",
    "\n",
    "################################################################################\n",
    "# [3.3] Compute relevance of every one of the 3 neurons of the layer (i) =======\n",
    "################################################################################\n",
    "sum_j1_power = (\n",
    "    w_j_1_dict[\"w_i1_j1\"] ** 2 + w_j_1_dict[\"w_i2_j1\"] ** 2 + w_j_1_dict[\"w_i3_j1\"] ** 2\n",
    ")\n",
    "\n",
    "sum_j2_power = (\n",
    "    w_j_2_dict[\"w_i1_j2\"] ** 2 + w_j_2_dict[\"w_i2_j2\"] ** 2 + w_j_2_dict[\"w_i3_j2\"] ** 2\n",
    ")\n",
    "\n",
    "sum_j3_power = (\n",
    "    w_j_3_dict[\"w_i1_j3\"] ** 2 + w_j_3_dict[\"w_i2_j3\"] ** 2 + w_j_3_dict[\"w_i3_j3\"] ** 2\n",
    ")\n",
    "\n",
    "sum_j4_power = (\n",
    "    w_j_4_dict[\"w_i1_j4\"] ** 2 + w_j_4_dict[\"w_i2_j4\"] ** 2 + w_j_4_dict[\"w_i3_j4\"] ** 2\n",
    ")\n",
    "\n",
    "sum_j5_power = (\n",
    "    w_j_5_dict[\"w_i1_j5\"] ** 2 + w_j_5_dict[\"w_i2_j5\"] ** 2 + w_j_5_dict[\"w_i3_j5\"] ** 2\n",
    ")\n",
    "\n",
    "R_i1 = (\n",
    "    ((w_j_1_dict[\"w_i1_j1\"] ** 2) / sum_j1_power) * R_j1\n",
    "    + ((w_j_2_dict[\"w_i1_j2\"] ** 2) / sum_j2_power) * R_j2\n",
    "    + ((w_j_3_dict[\"w_i1_j3\"] ** 2) / sum_j3_power) * R_j3\n",
    "    + ((w_j_4_dict[\"w_i1_j4\"] ** 2) / sum_j4_power) * R_j4\n",
    "    + ((w_j_5_dict[\"w_i1_j5\"] ** 2) / sum_j5_power) * R_j5\n",
    ")\n",
    "\n",
    "R_i2 = (\n",
    "    ((w_j_1_dict[\"w_i2_j1\"] ** 2) / sum_j1_power) * R_j1\n",
    "    + ((w_j_2_dict[\"w_i2_j2\"] ** 2) / sum_j2_power) * R_j2\n",
    "    + ((w_j_3_dict[\"w_i2_j3\"] ** 2) / sum_j3_power) * R_j3\n",
    "    + ((w_j_4_dict[\"w_i2_j4\"] ** 2) / sum_j4_power) * R_j4\n",
    "    + ((w_j_5_dict[\"w_i2_j5\"] ** 2) / sum_j5_power) * R_j5\n",
    ")\n",
    "\n",
    "R_i3 = (\n",
    "    ((w_j_1_dict[\"w_i3_j1\"] ** 2) / sum_j1_power) * R_j1\n",
    "    + ((w_j_2_dict[\"w_i3_j2\"] ** 2) / sum_j2_power) * R_j2\n",
    "    + ((w_j_3_dict[\"w_i3_j3\"] ** 2) / sum_j3_power) * R_j3\n",
    "    + ((w_j_4_dict[\"w_i3_j4\"] ** 2) / sum_j4_power) * R_j4\n",
    "    + ((w_j_5_dict[\"w_i3_j5\"] ** 2) / sum_j5_power) * R_j5\n",
    ")\n",
    "\n",
    "\n",
    "print(f\"Relevances of neurons of i layer: {R_i1}, {R_i2}, {R_i3}\")\n"
   ]
  },
  {
   "cell_type": "code",
   "execution_count": 14,
   "metadata": {},
   "outputs": [
    {
     "name": "stdout",
     "output_type": "stream",
     "text": [
      " Conservativity j --to--> k: sum_Rj: 3.8, R_k: 3.8\n",
      " Conservativity i --to--> j: sum_Ri: 3.8, sum_Rj: 3.8\n"
     ]
    }
   ],
   "source": [
    "################################################################################\n",
    "################################################################################\n",
    "################################################################################\n",
    "# [4.] Check that the computations of the relevance obay =======================\n",
    "# the positivity and conservativity properties =================================\n",
    "# (see cell above), with the help of assertions and unit tests =================\n",
    "################################################################################\n",
    "################################################################################\n",
    "################################################################################\n",
    "\n",
    "\n",
    "################################################################################\n",
    "# [4.1] Check positivity =======================================================\n",
    "################################################################################\n",
    "\n",
    "assert R_k >= 0, \"Relevance of every neuron of every layer must be positive\"\n",
    "\n",
    "assert R_j1 >= 0, \"Relevance of every neuron of every layer must be positive\"\n",
    "assert R_j2 >= 0, \"Relevance of every neuron of every layer must be positive\"\n",
    "assert R_j3 >= 0, \"Relevance of every neuron of every layer must be positive\"\n",
    "assert R_j4 >= 0, \"Relevance of every neuron of every layer must be positive\"\n",
    "assert R_j5 >= 0, \"Relevance of every neuron of every layer must be positive\"\n",
    "\n",
    "assert R_i1 >= 0, \"Relevance of every neuron of every layer must be positive\"\n",
    "assert R_i2 >= 0, \"Relevance of every neuron of every layer must be positive\"\n",
    "assert R_i3 >= 0, \"Relevance of every neuron of every layer must be positive\"\n",
    "\n",
    "\n",
    "################################################################################\n",
    "# [4.2] Check conservativity ===================================================\n",
    "################################################################################\n",
    "sum_Rj = R_j1 + R_j2 + R_j3 + R_j4 + R_j5\n",
    "print(f\" Conservativity j --to--> k: sum_Rj: {sum_Rj}, R_k: {R_k}\")\n",
    "\n",
    "\n",
    "sum_Ri = R_i1 + R_i2 + R_i3\n",
    "print(f\" Conservativity i --to--> j: sum_Ri: {sum_Ri}, sum_Rj: {sum_Rj}\")\n"
   ]
  },
  {
   "cell_type": "code",
   "execution_count": 15,
   "metadata": {},
   "outputs": [
    {
     "name": "stderr",
     "output_type": "stream",
     "text": [
      "test_relevance_conservativity (__main__.TestLRPProperties.test_relevance_conservativity) ... ok\n",
      "test_relevance_positivity (__main__.TestLRPProperties.test_relevance_positivity) ... ok\n",
      "\n",
      "----------------------------------------------------------------------\n",
      "Ran 2 tests in 0.002s\n",
      "\n",
      "OK\n"
     ]
    },
    {
     "data": {
      "text/plain": [
       "<unittest.main.TestProgram at 0x24feebf58b0>"
      ]
     },
     "execution_count": 15,
     "metadata": {},
     "output_type": "execute_result"
    }
   ],
   "source": [
    "import unittest\n",
    "\n",
    "\n",
    "class TestLRPProperties(unittest.TestCase):\n",
    "\n",
    "    def test_relevance_positivity(self):\n",
    "\n",
    "        assert R_k >= 0, \"Relevance of every neuron of every layer must be positive\"\n",
    "\n",
    "        assert R_j1 >= 0, \"Relevance of every neuron of every layer must be positive\"\n",
    "        assert R_j2 >= 0, \"Relevance of every neuron of every layer must be positive\"\n",
    "        assert R_j3 >= 0, \"Relevance of every neuron of every layer must be positive\"\n",
    "        assert R_j4 >= 0, \"Relevance of every neuron of every layer must be positive\"\n",
    "        assert R_j5 >= 0, \"Relevance of every neuron of every layer must be positive\"\n",
    "\n",
    "        assert R_i1 >= 0, \"Relevance of every neuron of every layer must be positive\"\n",
    "        assert R_i2 >= 0, \"Relevance of every neuron of every layer must be positive\"\n",
    "        assert R_i3 >= 0, \"Relevance of every neuron of every layer must be positive\"\n",
    "\n",
    "    def test_relevance_conservativity(self):\n",
    "        self.assertEqual(R_k, R_j1 + R_j2 + R_j3 + R_j4 + R_j5)\n",
    "        self.assertEqual(R_j1 + R_j2 + R_j3 + R_j4 + R_j5, R_i1 + R_i2 + R_i3)\n",
    "\n",
    "\n",
    "unittest.main(argv=[\"\"], verbosity=2, exit=False)\n"
   ]
  }
 ],
 "metadata": {
  "kernelspec": {
   "display_name": "env",
   "language": "python",
   "name": "python3"
  },
  "language_info": {
   "codemirror_mode": {
    "name": "ipython",
    "version": 3
   },
   "file_extension": ".py",
   "mimetype": "text/x-python",
   "name": "python",
   "nbconvert_exporter": "python",
   "pygments_lexer": "ipython3",
   "version": "3.12.9"
  }
 },
 "nbformat": 4,
 "nbformat_minor": 2
}
