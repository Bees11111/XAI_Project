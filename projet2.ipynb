{
 "cells": [
  {
   "cell_type": "markdown",
   "metadata": {},
   "source": [
    "# Projet 2 - Counterfactuals pour données tabulaires\n",
    "\n",
    "Elyes KHALFALLAH & Edouard CHAPPON\n",
    "\n",
    "MALIA\n",
    "\n",
    "---\n",
    "---\n"
   ]
  },
  {
   "cell_type": "code",
   "execution_count": null,
   "metadata": {},
   "outputs": [],
   "source": [
    "import sys\n",
    "import warnings\n",
    "warnings.filterwarnings(\"ignore\")\n",
    "\n",
    "import pandas as pd\n",
    "import numpy as np\n",
    "\n",
    "pd.set_option(\"max_rows\", 500)\n",
    "pd.set_option(\"max_columns\", 500)\n",
    "\n",
    "import matplotlib.pyplot as plt\n",
    "import seaborn as sns\n",
    "plt.rc(\"font\", size=16)\n",
    "\n",
    "from sklearn import metrics\n",
    "from sklearn import model_selection\n",
    "from sklearn.compose import ColumnTransformer\n",
    "from sklearn.pipeline import Pipeline\n",
    "from sklearn.preprocessing import OneHotEncoder\n",
    "from sklearn.ensemble import RandomForestClassifier\n",
    "\n",
    "# Ajout de DiCE pour les explications contrefactuelles\n",
    "import dice_ml\n",
    "from dice_ml.utils import helpers\n"
   ]
  },
  {
   "cell_type": "code",
   "execution_count": null,
   "metadata": {},
   "outputs": [],
   "source": [
    "# Charger le dataset \"Adult Income\"\n",
    "url = \"https://archive.ics.uci.edu/ml/machine-learning-databases/adult/adult.data\"\n",
    "columns = [\n",
    "    \"age\",\n",
    "    \"workclass\",\n",
    "    \"fnlwgt\",\n",
    "    \"education\",\n",
    "    \"education_num\",\n",
    "    \"marital_status\",\n",
    "    \"occupation\",\n",
    "    \"relationship\",\n",
    "    \"race\",\n",
    "    \"sex\",\n",
    "    \"capital_gain\",\n",
    "    \"capital_loss\",\n",
    "    \"hours_per_week\",\n",
    "    \"native_country\",\n",
    "    \"income\",\n",
    "]\n",
    "df = pd.read_csv(url, names=columns, na_values=\" ?\")\n",
    "\n",
    "df.replace(to_replace={np.nan: 0.0}, inplace=True)\n"
   ]
  },
  {
   "cell_type": "code",
   "execution_count": null,
   "metadata": {},
   "outputs": [],
   "source": [
    "# Définir la variable cible et les caractéristiques\n",
    "cible = df[\"income\"]\n",
    "caracteristiques = df.drop(columns=[\"income\"])\n",
    "\n",
    "sns.set_style(\"darkgrid\")\n",
    "fig, ax = plt.subplots(figsize=(12,12))\n",
    "counter = cible.value_counts()\n",
    "counter.rename(index={\" <=50K\": \"Low Income\", \" >50K\": \"High Income\"}, inplace=True)\n",
    "ax.set_xlabel(\"# Cases\", size=16)\n",
    "counter.plot(kind=\"barh\", ax=ax)\n"
   ]
  },
  {
   "cell_type": "code",
   "execution_count": null,
   "metadata": {},
   "outputs": [],
   "source": [
    "# Séparation des données\n",
    "x_train, x_test, y_train, y_test = model_selection.train_test_split(caracteristiques, \n",
    "                                                                    cible, \n",
    "                                                                    test_size=0.3, \n",
    "                                                                    random_state=14,\n",
    "                                                                    stratify=cible)\n"
   ]
  },
  {
   "cell_type": "code",
   "execution_count": null,
   "metadata": {},
   "outputs": [],
   "source": [
    "# Prétraitement\n",
    "caracteristiques_categoric = [\"workclass\", \"education\", \"marital_status\", \"occupation\", \"relationship\", \"race\", \"sex\", \"native_country\"]\n",
    "caracteristiques_numeriques = set(caracteristiques.columns) - set(caracteristiques_categoric)\n",
    "\n",
    "types_cat = [list(caracteristiques[cat].unique()) for cat in caracteristiques_categoric]\n",
    "transfo_categorique = Pipeline(steps=[('onehot', OneHotEncoder(categories=types_cat))])\n",
    "preprocesseur = ColumnTransformer(transformers=[('categorical', transfo_categorique, caracteristiques_categoric)])\n"
   ]
  },
  {
   "cell_type": "code",
   "execution_count": null,
   "metadata": {},
   "outputs": [],
   "source": [
    "# Entraînement du modèle\n",
    "params_rf = {\"n_estimators\": 50, \"max_depth\": 8, \"random_state\":27}\n",
    "rf = RandomForestClassifier(**params_rf)\n",
    "clf_rf = Pipeline(steps=[('preprocessor', preprocesseur), ('classifier', rf)])\n",
    "modele = clf_rf.fit(x_train , y_train)\n"
   ]
  },
  {
   "cell_type": "code",
   "execution_count": null,
   "metadata": {},
   "outputs": [],
   "source": [
    "# Matrice de confusion\n",
    "y_hat = clf_rf.predict(x_test)\n",
    "cf = metrics.confusion_matrix(y_pred=y_hat, y_true=y_test)\n",
    "noms_df = [\"Low Income\", \"High Income\"]\n",
    "cf_df = pd.DataFrame(data=cf, columns=noms_df, index=noms_df)\n",
    "fig, ax = plt.subplots(figsize=(8,6))\n",
    "sns.heatmap(cf_df, fmt=\"d\",annot=True, ax=ax)\n",
    "ax.set_xlabel(\"Prédiction du Modèle\", size=16)\n",
    "ax.set_ylabel(\"Valeur Réelle\", size=16)\n",
    "ax.set_title(\"Matrice de Confusion\", size=20)\n"
   ]
  },
  {
   "cell_type": "code",
   "execution_count": null,
   "metadata": {},
   "outputs": [],
   "source": [
    "X = pd.concat([caracteristiques, cible], axis=1)\n",
    "donnees_dice = dice_ml.Data(dataframe=X, continuous_features=list(caracteristiques_numeriques), outcome_name='income')\n",
    "modele_exp = dice_ml.Model(model=modele, backend='sklearn')\n",
    "exp = dice_ml.Dice(donnees_dice, modele_exp, method=\"random\")\n"
   ]
  },
  {
   "cell_type": "code",
   "execution_count": null,
   "metadata": {},
   "outputs": [],
   "source": [
    "patient_index = 2\n",
    "print(\"-------Revenu Réel du Patient------\")\n",
    "print(cible.iloc[patient_index])\n",
    "print(\"-------Revenu Prédit du Patient------\")\n",
    "pred_class = clf_rf.predict(X.loc[patient_index:patient_index, :])[0]\n",
    "pred_proba = clf_rf.predict_proba(X.loc[patient_index:patient_index, :])[0]\n",
    "print(f'Probabilité de {pred_class}: {round(pred_proba[1],3)}')\n"
   ]
  },
  {
   "cell_type": "code",
   "execution_count": null,
   "metadata": {},
   "outputs": [],
   "source": [
    "caracteristiques_a_varier = [\"education\", \"marital_status\", \"occupation\", \"relationship\", \"age\"]\n",
    "e1 = exp.generate_counterfactuals(caracteristiques[patient_index:patient_index+1], \n",
    "                                  total_CFs=2, \n",
    "                                  desired_class=\"opposite\",\n",
    "                                  random_seed=3434,\n",
    "                                  features_to_vary=caracteristiques_a_varier)\n",
    "e1.visualize_as_dataframe(show_only_changes=False)\n"
   ]
  },
  {
   "cell_type": "code",
   "execution_count": null,
   "metadata": {},
   "outputs": [],
   "source": [
    "CF_dice = e1.cf_examples_list[0].final_cfs_df\n",
    "pred_cf = clf_rf.predict_proba(CF_dice.drop(columns=[\"income\"]))\n",
    "CF_dice[[\"Probabilité Low Income\", \"Probabilité High Income\"]] = pred_cf\n",
    "\n",
    "CF_dice\n"
   ]
  }
 ],
 "metadata": {
  "kernelspec": {
   "display_name": "env",
   "language": "python",
   "name": "python3"
  },
  "language_info": {
   "codemirror_mode": {
    "name": "ipython",
    "version": 3
   },
   "file_extension": ".py",
   "mimetype": "text/x-python",
   "name": "python",
   "nbconvert_exporter": "python",
   "pygments_lexer": "ipython3",
   "version": "3.12.9"
  }
 },
 "nbformat": 4,
 "nbformat_minor": 2
}
